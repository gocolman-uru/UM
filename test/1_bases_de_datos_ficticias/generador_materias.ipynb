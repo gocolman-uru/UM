{
 "cells": [
  {
   "cell_type": "code",
   "execution_count": 7,
   "metadata": {},
   "outputs": [],
   "source": [
    "#pip install pandas"
   ]
  },
  {
   "cell_type": "code",
   "execution_count": 8,
   "metadata": {},
   "outputs": [],
   "source": [
    "import requests\n",
    "import pandas as pd\n",
    "import json\n",
    "import urllib3\n",
    "urllib3.disable_warnings()\n",
    "\n",
    "pd.set_option('display.max_colwidth', None)"
   ]
  },
  {
   "cell_type": "code",
   "execution_count": 9,
   "metadata": {},
   "outputs": [],
   "source": [
    "# Armo las listas de los alumnos\n",
    "\n",
    "alumnos = ['Gonzalo Colman','Pedro Barreix', 'Renzo Martínez']\n",
    "\n",
    "materias = ['Mátematica 1','Álgebra Linea','Pensamiento Computacional','Introducción a la Licenciatura']"
   ]
  },
  {
   "cell_type": "code",
   "execution_count": 17,
   "metadata": {},
   "outputs": [],
   "source": [
    "def generador_materias(alumno,lista_materias):\n",
    "    materias = []\n",
    "\n",
    "    for materia in lista_materias:\n",
    "        materias.append(materia)\n",
    "\n",
    "    alumno = [alumno]\n",
    "    df = pd.DataFrame(list(zip(alumno, [materias])),columns =['Alumno', 'Materias'])\n",
    "    return df"
   ]
  },
  {
   "cell_type": "code",
   "execution_count": 21,
   "metadata": {},
   "outputs": [],
   "source": [
    "data = []\n",
    "\n",
    "for alumno in alumnos:\n",
    "    data.append(generador_materias(alumno,materias))\n",
    "\n",
    "df_final = pd.concat(data,ignore_index=True)"
   ]
  },
  {
   "cell_type": "code",
   "execution_count": 22,
   "metadata": {},
   "outputs": [
    {
     "data": {
      "text/html": [
       "<div>\n",
       "<style scoped>\n",
       "    .dataframe tbody tr th:only-of-type {\n",
       "        vertical-align: middle;\n",
       "    }\n",
       "\n",
       "    .dataframe tbody tr th {\n",
       "        vertical-align: top;\n",
       "    }\n",
       "\n",
       "    .dataframe thead th {\n",
       "        text-align: right;\n",
       "    }\n",
       "</style>\n",
       "<table border=\"1\" class=\"dataframe\">\n",
       "  <thead>\n",
       "    <tr style=\"text-align: right;\">\n",
       "      <th></th>\n",
       "      <th>Alumno</th>\n",
       "      <th>Materias</th>\n",
       "    </tr>\n",
       "  </thead>\n",
       "  <tbody>\n",
       "    <tr>\n",
       "      <th>0</th>\n",
       "      <td>Gonzalo Colman</td>\n",
       "      <td>[Mátematica 1, Álgebra Linea, Pensamiento Computacional, Introducción a la Licenciatura]</td>\n",
       "    </tr>\n",
       "    <tr>\n",
       "      <th>1</th>\n",
       "      <td>Pedro Barreix</td>\n",
       "      <td>[Mátematica 1, Álgebra Linea, Pensamiento Computacional, Introducción a la Licenciatura]</td>\n",
       "    </tr>\n",
       "    <tr>\n",
       "      <th>2</th>\n",
       "      <td>Renzo Martínez</td>\n",
       "      <td>[Mátematica 1, Álgebra Linea, Pensamiento Computacional, Introducción a la Licenciatura]</td>\n",
       "    </tr>\n",
       "  </tbody>\n",
       "</table>\n",
       "</div>"
      ],
      "text/plain": [
       "           Alumno  \\\n",
       "0  Gonzalo Colman   \n",
       "1   Pedro Barreix   \n",
       "2  Renzo Martínez   \n",
       "\n",
       "                                                                                   Materias  \n",
       "0  [Mátematica 1, Álgebra Linea, Pensamiento Computacional, Introducción a la Licenciatura]  \n",
       "1  [Mátematica 1, Álgebra Linea, Pensamiento Computacional, Introducción a la Licenciatura]  \n",
       "2  [Mátematica 1, Álgebra Linea, Pensamiento Computacional, Introducción a la Licenciatura]  "
      ]
     },
     "execution_count": 22,
     "metadata": {},
     "output_type": "execute_result"
    }
   ],
   "source": [
    "df_final"
   ]
  },
  {
   "cell_type": "code",
   "execution_count": 23,
   "metadata": {},
   "outputs": [],
   "source": [
    "# guardo la base\n",
    "\n",
    "df_final.to_csv('bases/materias.csv',sep='|')"
   ]
  },
  {
   "cell_type": "code",
   "execution_count": null,
   "metadata": {},
   "outputs": [],
   "source": []
  }
 ],
 "metadata": {
  "kernelspec": {
   "display_name": "Python 3",
   "language": "python",
   "name": "python3"
  },
  "language_info": {
   "codemirror_mode": {
    "name": "ipython",
    "version": 3
   },
   "file_extension": ".py",
   "mimetype": "text/x-python",
   "name": "python",
   "nbconvert_exporter": "python",
   "pygments_lexer": "ipython3",
   "version": "3.10.11"
  },
  "orig_nbformat": 4
 },
 "nbformat": 4,
 "nbformat_minor": 2
}
