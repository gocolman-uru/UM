{
 "cells": [
  {
   "cell_type": "code",
   "execution_count": 1,
   "id": "975ce879-8bd2-44ba-a015-8aed6bbaa81e",
   "metadata": {},
   "outputs": [],
   "source": [
    "\n",
    "import requests\n",
    "import pandas as pd\n",
    "import json\n",
    "import urllib3\n",
    "urllib3.disable_warnings()\n",
    "\n",
    "pd.set_option('display.max_colwidth', None)\n"
   ]
  },
  {
   "cell_type": "code",
   "execution_count": 2,
   "id": "fd83f56f-b041-4180-8286-a7a374dc5111",
   "metadata": {},
   "outputs": [],
   "source": [
    "def busqueda_libros(parametro_busqueda):\n",
    "    url = 'https://www.googleapis.com/books/v1/volumes?q='\n",
    "    response = requests.get(url+parametro_busqueda, verify = False)\n",
    "\n",
    "    r = response.content\n",
    "    data = json.loads(r)\n",
    "\n",
    "    df = pd.json_normalize(data, record_path =['items'])\n",
    "    df.columns = [x.split('.')[1] if '.' in str(x) else x for x in df.columns]\n",
    "\n",
    "    # Agrego columna con termino de busqueda para tener todo clar\n",
    "    df['palabras_de_busqueda'] = parametro_busqueda\n",
    "    return df"
   ]
  },
  {
   "cell_type": "code",
   "execution_count": 3,
   "id": "4d62eab2-1816-4dac-aee2-71c786211ead",
   "metadata": {},
   "outputs": [
    {
     "name": "stdout",
     "output_type": "stream",
     "text": [
      "Buscando...\n",
      "Busqueda: matematica - completa\n",
      "-------\n",
      "Buscando...\n",
      "Busqueda: calculo - completa\n",
      "-------\n",
      "Buscando...\n",
      "Busqueda: algebra - completa\n",
      "-------\n",
      "Buscando...\n",
      "Busqueda: pensamiento computacional - completa\n",
      "-------\n",
      "Buscando...\n",
      "Busqueda: integrales - completa\n",
      "-------\n",
      "Buscando...\n",
      "Busqueda: determinantes - completa\n",
      "-------\n",
      "Buscando...\n",
      "Busqueda: historia uruguay - completa\n",
      "-------\n",
      "Buscando...\n",
      "Busqueda: derivadas - completa\n",
      "-------\n",
      "Buscando...\n",
      "Busqueda: Taylor - completa\n",
      "-------\n",
      "Buscando...\n",
      "Busqueda: programacion - completa\n",
      "-------\n",
      "Buscando...\n",
      "Busqueda: algoritmos - completa\n",
      "-------\n"
     ]
    }
   ],
   "source": [
    "lista_palabras_busqueda = ['matematica','calculo','algebra','pensamiento computacional','integrales','determinantes','historia uruguay','derivadas','Taylor','programacion','algoritmos']\n",
    "lista_dfs = []\n",
    "columnas_deseadas = ['title','subtitle','publishedDate','pageCount','categories','language','webReaderLink','palabras_de_busqueda']\n",
    "\n",
    "for frase in lista_palabras_busqueda:\n",
    "    print('Buscando...')\n",
    "    df_aux = busqueda_libros(frase)\n",
    "    \n",
    "    for i in columnas_deseadas:\n",
    "        if i not in df_aux.columns:\n",
    "            df_aux[f'{i}'] = None\n",
    "    \n",
    "    df_aux = df_aux[columnas_deseadas]\n",
    "    \n",
    "    lista_dfs.append(df_aux)\n",
    "    print('Busqueda:', f'{frase}', '- completa')\n",
    "    print('-------')   "
   ]
  },
  {
   "cell_type": "code",
   "execution_count": 4,
   "id": "e7f9cc19-949d-41b3-9be2-112aa67f1932",
   "metadata": {},
   "outputs": [
    {
     "data": {
      "text/plain": [
       "(110, 8)"
      ]
     },
     "execution_count": 4,
     "metadata": {},
     "output_type": "execute_result"
    }
   ],
   "source": [
    "final_df = pd.concat(lista_dfs, ignore_index=True)\n",
    "final_df.shape"
   ]
  },
  {
   "cell_type": "code",
   "execution_count": 5,
   "id": "67f14c72-b1c2-4588-85bd-8bd94504174f",
   "metadata": {},
   "outputs": [],
   "source": [
    "# guardo la base\n",
    "\n",
    "final_df.to_csv('bases/libros.csv',sep='|')"
   ]
  },
  {
   "cell_type": "code",
   "execution_count": null,
   "id": "bbd1c4d6-f52a-40dd-8725-961075a00c6d",
   "metadata": {},
   "outputs": [],
   "source": []
  }
 ],
 "metadata": {
  "kernelspec": {
   "display_name": "Python 3 (ipykernel)",
   "language": "python",
   "name": "python3"
  },
  "language_info": {
   "codemirror_mode": {
    "name": "ipython",
    "version": 3
   },
   "file_extension": ".py",
   "mimetype": "text/x-python",
   "name": "python",
   "nbconvert_exporter": "python",
   "pygments_lexer": "ipython3",
   "version": "3.10.11"
  }
 },
 "nbformat": 4,
 "nbformat_minor": 5
}
