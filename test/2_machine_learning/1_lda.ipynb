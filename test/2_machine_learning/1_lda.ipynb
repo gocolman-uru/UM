{
 "cells": [
  {
   "cell_type": "code",
   "execution_count": 3,
   "metadata": {},
   "outputs": [],
   "source": [
    "#pip install gensim"
   ]
  },
  {
   "cell_type": "code",
   "execution_count": 7,
   "metadata": {},
   "outputs": [],
   "source": [
    "import gensim\n",
    "from gensim import corpora\n",
    "from gensim.models import LdaModel\n",
    "from gensim.models import CoherenceModel\n",
    "from gensim.utils import simple_preprocess\n",
    "import csv\n",
    "import pandas as pd"
   ]
  },
  {
   "cell_type": "code",
   "execution_count": 2,
   "metadata": {},
   "outputs": [],
   "source": [
    "def leer_datos_csv(archivo_csv):\n",
    "    datos = []\n",
    "    with open(archivo_csv, 'r') as archivo:\n",
    "        lector_csv = csv.reader(archivo)\n",
    "        encabezado = next(lector_csv)\n",
    "\n",
    "        for fila in lector_csv:\n",
    "            datos.append(fila)\n",
    "\n",
    "    return datos"
   ]
  },
  {
   "cell_type": "code",
   "execution_count": 3,
   "metadata": {},
   "outputs": [],
   "source": [
    "nombre_archivo = 'libros.csv'\n",
    "datos = leer_datos_csv(nombre_archivo)"
   ]
  },
  {
   "cell_type": "code",
   "execution_count": 4,
   "metadata": {},
   "outputs": [
    {
     "data": {
      "text/plain": [
       "['Educacion Matematica',\n",
       " 'Matematica: Razonamiento Y Aplicaciones 10/e',\n",
       " 'Gaceta matemática',\n",
       " 'Matemática elemental',\n",
       " 'Introducción a la matemática de los juegos',\n",
       " 'Revista matemática hispano-americana',\n",
       " 'Didactica De La Matematica En La Educacion Primaria Intercultural Bilingue',\n",
       " 'Inteligencia Matematica',\n",
       " 'Matematica Preuniversitaria',\n",
       " 'Matemática elemental',\n",
       " 'Cálculo',\n",
       " 'Calculo Diferencial E Integral',\n",
       " 'Calculo',\n",
       " 'Maestría en el cálculo',\n",
       " 'Calculus. I',\n",
       " 'Cálculo en variedades',\n",
       " 'Calculo 4000',\n",
       " 'Cálculo Integral',\n",
       " 'Programación y cálculo numérico',\n",
       " 'Cálculo numérico',\n",
       " 'Algebra y Trigonometria',\n",
       " 'Algebra Elemental',\n",
       " 'Algebra Lineal Y Sus Aplicaciones',\n",
       " 'algebra',\n",
       " 'Álgebra',\n",
       " 'Recent Research on Pure and Applied Algebra',\n",
       " 'Cuestiones sobre álgebra lineal',\n",
       " 'Algebra intermedia',\n",
       " 'Algebra Lineal',\n",
       " 'Polynomials',\n",
       " 'Pensamiento Computacional 2°. Básico - IGER',\n",
       " 'Pensamiento Computacional 4.° Bachilerato',\n",
       " 'Separata Pensamiento Computacional - Segundo Básico Semestre II',\n",
       " 'Pensamiento Computacional 3° Básico - IGER',\n",
       " 'Escuela de Pensamiento Computacional e Inteligencia Artificial 2021/22. De la formación docente al cambio metodológico. Resultados de la investigación',\n",
       " 'Separata Pensamiento Computacional - Tercero Básico Semestre II',\n",
       " 'El Pensamiento Computacional',\n",
       " 'Pensamiento Computacional 1° Básico - IGER',\n",
       " 'Cuaderno pensamiento computacional',\n",
       " 'Escuela de Pensamiento Computacional e Inteligencia Artificial 20/21: Enfoques y propuestas para su aplicación en el aula. Resultados de la investigación',\n",
       " 'Sanando con alimentos integrales',\n",
       " 'Cálculo Integral',\n",
       " 'Operadores integrales de Fourier',\n",
       " 'Cálculo Integral. La integral indefinida y métodos de integración',\n",
       " 'Introducción a las series integrales de fourier',\n",
       " 'Talleres integrales en educación infantil',\n",
       " 'Proyectos Integrales',\n",
       " 'Cálculo de Integrales Indefinidas',\n",
       " 'Ecuaciones Integrales: texto para el plan de maestría y doctorado en Física',\n",
       " 'Seminario Sobre Adentamientos Rurales Integrales',\n",
       " 'Los determinantes',\n",
       " 'Efecto de las intervenciones en salud en el perfil de determinantes intermedios y próximos de la mortalidad infantil para el período 1990-2000',\n",
       " 'Determinantes Del Rendimiento Académico',\n",
       " 'Los determinantes del crecimiento económico',\n",
       " 'Memoria sobre la teoría de las determinantes',\n",
       " 'El paradigma determinante en español',\n",
       " 'Brecha Digital Y Sus Determinantes',\n",
       " 'Determinantes de la sustitución del colón costarricense 1987-2003',\n",
       " 'Los determinantes: Clases y usos.',\n",
       " 'Factores Determinantes de la Estructura',\n",
       " 'Historia del Uruguay',\n",
       " 'Historia mínima de Uruguay',\n",
       " 'La historia escondida del Uruguay',\n",
       " 'Historia del Uruguay',\n",
       " 'Compendio de la historia de la República O. del Uruguay',\n",
       " 'Breve historia del Uruguay independiente',\n",
       " 'Historia del Uruguay y de America',\n",
       " 'Apuntes para la historia de la República oriental del Uruguay desde el año de 1810 hasta el de 1852',\n",
       " 'Historia de la dominación española en el Uruguay',\n",
       " 'Historia del Uruguay en el siglo XX',\n",
       " 'Intro. A las ecuaciones en derivadas parciales',\n",
       " 'Ecuaciones diferenciales en derivadas parciales',\n",
       " 'Derivadas. Calculo y aplicaciones',\n",
       " 'Derivadas',\n",
       " 'La Derivada Parcial Es Facil Manual Autodidactico',\n",
       " 'Ecuaciones derivadas parciales',\n",
       " 'Introducción a las ecuaciones en derivadas parciales',\n",
       " 'Matem‡ticas 4¼ ESO - 16. Derivadas (I)',\n",
       " 'Matem‡ticas 4¼ ESO - 17. Derivadas (II)',\n",
       " 'Funciones trigonométricas',\n",
       " \"Taylor's Guide to Specialty Nurseries\",\n",
       " \"The Rhetoric of Jeremy Taylor's Prose\",\n",
       " \"Merchant Taylor's School\",\n",
       " 'The Poetical and Dramatic Works of S.T. Coleridge',\n",
       " \"Taylor's Pocket Guide to Perennials for Sun\",\n",
       " \"Myron C. Taylor's Mission to the Vatican\",\n",
       " \"Joan Du Plat Taylor's Excavations at the Late Bronze Age Mining Settlement at Apliki Karamallos\",\n",
       " \"Taylor's Encyclopedia of Government Officials\",\n",
       " \"An Investigation of the Orbits of the Two Components of Taylor's Comet\",\n",
       " \"Taylor's Guide to Roses\",\n",
       " 'Cuerpo de Profesores de Enseñanza Secundaria. Informatica. Programacion Didactica Ebook',\n",
       " 'Cuerpo de Maestros. Programación Didáctica. Educacion Fisica.e-book.',\n",
       " 'Desarrollo de herramientas para una programación eficiente de las redes de transputers',\n",
       " 'Programación en C++ para ingenieros',\n",
       " 'Programación en Clipper 5',\n",
       " 'Fundamentos de Programacion Piensa en C',\n",
       " 'Programacion Lineal y Decisiones Economicas',\n",
       " 'Programación avanzada orientada a objetos',\n",
       " 'Programacion Financiera Aplicada; El Caso de Colombia',\n",
       " '115 Ejercicios resueltos de programación C++',\n",
       " 'Diseño y construcción de algoritmos',\n",
       " 'Algoritmos: la base de la programación de computadoras (Algorithms: The Building Blocks of Computer Programming)',\n",
       " 'Diseño de algoritmos con implementaciones en Pascal y C',\n",
       " 'Algoritmos En C++',\n",
       " 'Algoritmos',\n",
       " 'Diseño y construcción de algoritmos',\n",
       " 'Aprenda a Diseñar Algoritmos',\n",
       " 'Mejora de los algoritmos de latencia variable para el cálculo de la división',\n",
       " 'Métodos y algoritmos básicos del álgebra numérica',\n",
       " 'Algoritmos']"
      ]
     },
     "execution_count": 4,
     "metadata": {},
     "output_type": "execute_result"
    }
   ],
   "source": [
    "titulos_final = []\n",
    "\n",
    "for fila in datos:\n",
    "    for f in fila:\n",
    "        titulos = []\n",
    "        titulos.append(f.split('|')[1])\n",
    "        break\n",
    "    titulos_final.append(titulos[0])\n",
    "titulos_final"
   ]
  },
  {
   "cell_type": "code",
   "execution_count": 6,
   "metadata": {},
   "outputs": [
    {
     "name": "stdout",
     "output_type": "stream",
     "text": [
      "(0, '0.094*\"de\" + 0.050*\"la\" + 0.029*\"del\" + 0.027*\"en\" + 0.024*\"historia\"')\n",
      "(1, '0.037*\"cálculo\" + 0.032*\"pensamiento\" + 0.032*\"computacional\" + 0.028*\"algebra\" + 0.025*\"taylor\\'s\"')\n",
      "(2, '0.037*\"en\" + 0.026*\"y\" + 0.025*\"el\" + 0.024*\"derivadas\" + 0.024*\"ecuaciones\"')\n",
      "Coherence Score: 0.5446399261726006\n",
      "\n"
     ]
    },
    {
     "data": {
      "text/plain": [
       "'Este enfoque busca medir la similitud entre las palabras dentro de un tema y evaluar si tienen una conexión semántica fuerte. \\nCuanto mayor sea el Coherence Score, más coherentes y semánticamente relacionadas se consideran las palabras en un tema.'"
      ]
     },
     "execution_count": 6,
     "metadata": {},
     "output_type": "execute_result"
    }
   ],
   "source": [
    "# Preprocesamiento de los titulos\n",
    "tokenizados = [titulo.lower().split() for titulo in titulos_final]\n",
    "\n",
    "# dict\n",
    "diccionario = corpora.Dictionary(tokenizados)\n",
    "\n",
    "# corpus\n",
    "corpus = [diccionario.doc2bow(tokens) for tokens in tokenizados]\n",
    "\n",
    "# modelo LDA\n",
    "lda_model = LdaModel(corpus=corpus, id2word=diccionario, num_topics=3, passes=10)\n",
    "\n",
    "# palabras clave para cada tema\n",
    "topics = lda_model.print_topics(num_words=5)\n",
    "for topic in topics:\n",
    "    print(topic)\n",
    "\n",
    "# coherencia del modelo\n",
    "coherence_model = CoherenceModel(model=lda_model, texts=tokenizados, dictionary=diccionario, coherence='c_v')\n",
    "coherence_score = coherence_model.get_coherence()\n",
    "print(\"Coherence Score:\", coherence_score)\n",
    "print()\n",
    "'''Este enfoque busca medir la similitud entre las palabras dentro de un tema y evaluar si tienen una conexión semántica fuerte. \n",
    "Cuanto mayor sea el Coherence Score, más coherentes y semánticamente relacionadas se consideran las palabras en un tema.'''"
   ]
  },
  {
   "cell_type": "code",
   "execution_count": 31,
   "metadata": {},
   "outputs": [],
   "source": [
    "# guardar el modelo\n",
    "nombre_archivo = 'modelos/modelo_lda'\n",
    "lda_model.save(nombre_archivo)"
   ]
  },
  {
   "cell_type": "code",
   "execution_count": 10,
   "metadata": {},
   "outputs": [],
   "source": [
    "predicciones = []\n",
    "\n",
    "for documento in titulos_final:\n",
    "    documento_pre = simple_preprocess(documento)\n",
    "    \n",
    "    # vect\n",
    "    documento_vector = diccionario.doc2bow(documento_pre)\n",
    "\n",
    "    # inferencia del tema\n",
    "    distribucion_temas = lda_model.get_document_topics(documento_vector)\n",
    "\n",
    "    # probabilidad más alta\n",
    "    tema_clasificado = max(distribucion_temas, key=lambda x: x[1])\n",
    "    numero_tema = tema_clasificado[0]\n",
    "    probabilidad_tema = tema_clasificado[1]\n",
    "\n",
    "    # predict a la lista\n",
    "    predicciones.append((documento, numero_tema, probabilidad_tema))\n",
    "\n",
    "# df con las predicciones\n",
    "columnas = ['Texto', 'Tema', 'Probabilidad']\n",
    "df_predicciones = pd.DataFrame(predicciones, columns=columnas)"
   ]
  },
  {
   "cell_type": "code",
   "execution_count": 11,
   "metadata": {},
   "outputs": [
    {
     "data": {
      "text/html": [
       "<div>\n",
       "<style scoped>\n",
       "    .dataframe tbody tr th:only-of-type {\n",
       "        vertical-align: middle;\n",
       "    }\n",
       "\n",
       "    .dataframe tbody tr th {\n",
       "        vertical-align: top;\n",
       "    }\n",
       "\n",
       "    .dataframe thead th {\n",
       "        text-align: right;\n",
       "    }\n",
       "</style>\n",
       "<table border=\"1\" class=\"dataframe\">\n",
       "  <thead>\n",
       "    <tr style=\"text-align: right;\">\n",
       "      <th></th>\n",
       "      <th>Texto</th>\n",
       "      <th>Tema</th>\n",
       "      <th>Probabilidad</th>\n",
       "    </tr>\n",
       "  </thead>\n",
       "  <tbody>\n",
       "    <tr>\n",
       "      <th>0</th>\n",
       "      <td>Educacion Matematica</td>\n",
       "      <td>2</td>\n",
       "      <td>0.773307</td>\n",
       "    </tr>\n",
       "    <tr>\n",
       "      <th>1</th>\n",
       "      <td>Matematica: Razonamiento Y Aplicaciones 10/e</td>\n",
       "      <td>2</td>\n",
       "      <td>0.829521</td>\n",
       "    </tr>\n",
       "    <tr>\n",
       "      <th>2</th>\n",
       "      <td>Gaceta matemática</td>\n",
       "      <td>1</td>\n",
       "      <td>0.776865</td>\n",
       "    </tr>\n",
       "    <tr>\n",
       "      <th>3</th>\n",
       "      <td>Matemática elemental</td>\n",
       "      <td>1</td>\n",
       "      <td>0.777377</td>\n",
       "    </tr>\n",
       "    <tr>\n",
       "      <th>4</th>\n",
       "      <td>Introducción a la matemática de los juegos</td>\n",
       "      <td>1</td>\n",
       "      <td>0.484927</td>\n",
       "    </tr>\n",
       "  </tbody>\n",
       "</table>\n",
       "</div>"
      ],
      "text/plain": [
       "                                          Texto  Tema  Probabilidad\n",
       "0                          Educacion Matematica     2      0.773307\n",
       "1  Matematica: Razonamiento Y Aplicaciones 10/e     2      0.829521\n",
       "2                             Gaceta matemática     1      0.776865\n",
       "3                          Matemática elemental     1      0.777377\n",
       "4    Introducción a la matemática de los juegos     1      0.484927"
      ]
     },
     "execution_count": 11,
     "metadata": {},
     "output_type": "execute_result"
    }
   ],
   "source": [
    "df_predicciones.head()"
   ]
  },
  {
   "cell_type": "code",
   "execution_count": 12,
   "metadata": {},
   "outputs": [],
   "source": [
    "# guardo el csv\n",
    "df_predicciones.to_csv('bases/df_predicciones.csv',sep='|')"
   ]
  },
  {
   "cell_type": "code",
   "execution_count": null,
   "metadata": {},
   "outputs": [],
   "source": []
  }
 ],
 "metadata": {
  "kernelspec": {
   "display_name": "Python 3",
   "language": "python",
   "name": "python3"
  },
  "language_info": {
   "codemirror_mode": {
    "name": "ipython",
    "version": 3
   },
   "file_extension": ".py",
   "mimetype": "text/x-python",
   "name": "python",
   "nbconvert_exporter": "python",
   "pygments_lexer": "ipython3",
   "version": "3.10.11"
  },
  "orig_nbformat": 4
 },
 "nbformat": 4,
 "nbformat_minor": 2
}
